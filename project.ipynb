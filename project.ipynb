{
 "cells": [
  {
   "cell_type": "code",
   "execution_count": null,
   "metadata": {},
   "outputs": [],
   "source": [
    "# Notes\n",
    "# Figure out what the plan is for predictions (What are we trying to predict)\n",
    "# Work on understanding the data\n",
    "# Figure out how to build a model to then predict"
   ]
  },
  {
   "cell_type": "code",
   "execution_count": 30,
   "metadata": {},
   "outputs": [],
   "source": [
    "# Imports\n",
    "import numpy as np\n",
    "import pandas as pd\n",
    "from sklearn.model_selection import train_test_split"
   ]
  },
  {
   "cell_type": "code",
   "execution_count": 31,
   "metadata": {},
   "outputs": [],
   "source": [
    "# Random State\n",
    "RANDOM_STATE = 24"
   ]
  },
  {
   "cell_type": "code",
   "execution_count": 43,
   "metadata": {},
   "outputs": [
    {
     "name": "stdout",
     "output_type": "stream",
     "text": [
      "Median Open:  208.49500274658203\n",
      "Highest Open:  445.6199951171875\n",
      "Lowest Open:  124.11000061035156\n",
      "Highest Open Index:  2400\n",
      "Lowest Open Index:  279\n",
      "All Time Low:  123.5500030517578\n",
      "All Time High:  449.25\n",
      "All Time High Date:  2024-07-18\n",
      "All Time Low Date:  2016-02-03\n"
     ]
    }
   ],
   "source": [
    "# Load data set\n",
    "url = \"https://raw.githubusercontent.com/RobKing2003/StockPrediction/refs/heads/main/berkshire_hathaway_data.csv\" \n",
    "data = pd.read_csv(url)\n",
    "\n",
    "medianOpen = np.median(data[\"Open\"])\n",
    "highestOpen, highestOpenIndex = np.max(data[\"Open\"]), data[\"Open\"].idxmax()\n",
    "lowestOpen, lowestOpenIndex = np.min(data[\"Open\"]), data[\"Open\"].idxmin()\n",
    "\n",
    "atl = np.min(data[\"Low\"]) # All Time Low\n",
    "ath = np.max(data[\"High\"]) # All Time High\n",
    "\n",
    "print(\"Median Open: \", medianOpen)\n",
    "print(\"Highest Open: \", highestOpen)\n",
    "print(\"Lowest Open: \", lowestOpen)\n",
    "\n",
    "print(\"Highest Open Index: \", highestOpenIndex)\n",
    "print(\"Lowest Open Index: \", lowestOpenIndex)\n",
    "\n",
    "print(\"All Time Low: \", atl)\n",
    "print(\"All Time High: \", ath)\n",
    "\n",
    "athIdx = data[\"High\"].idxmax()\n",
    "atlIdx = data[\"Low\"].idxmin()\n",
    "athDate = data.loc[athIdx, \"Date\"]\n",
    "atlDate = data.loc[atlIdx, \"Date\"]\n",
    "print(\"All Time High Date: \", athDate)\n",
    "print(\"All Time Low Date: \", atlDate)\n",
    "\n",
    "X_features = [\"Open\", \"Close\", \"High\", \"Low\"]\n",
    "y_features = [\"Date\", \"Volume\"]\n",
    "X = data[X_features].values\n",
    "y = (data[\"Close\"].shift(-1) > data[\"Close\"]).astype(int)"
   ]
  },
  {
   "cell_type": "code",
   "execution_count": 40,
   "metadata": {},
   "outputs": [],
   "source": [
    "# Train Data\n",
    "X_train, X_test, y_train, y_test = train_test_split(\n",
    "    X, y,\n",
    "    test_size = 0.3, # Proportion of the dataset to include in the test split (30% in this case)\n",
    "    random_state = RANDOM_STATE, # Seed for the random number generator (for reproducibility)\n",
    "    ## Stratefied sampling to ensure class balance in training and test set\n",
    "    stratify = y\n",
    ")"
   ]
  },
  {
   "cell_type": "code",
   "execution_count": 42,
   "metadata": {},
   "outputs": [
    {
     "name": "stdout",
     "output_type": "stream",
     "text": [
      "Training set shape: (1685, 4)\n",
      "Test set shape: (723, 4)\n"
     ]
    }
   ],
   "source": [
    "print(\"Training set shape:\", X_train.shape)\n",
    "print(\"Test set shape:\", X_test.shape)"
   ]
  }
 ],
 "metadata": {
  "kernelspec": {
   "display_name": "Python 3",
   "language": "python",
   "name": "python3"
  },
  "language_info": {
   "codemirror_mode": {
    "name": "ipython",
    "version": 3
   },
   "file_extension": ".py",
   "mimetype": "text/x-python",
   "name": "python",
   "nbconvert_exporter": "python",
   "pygments_lexer": "ipython3",
   "version": "3.11.8"
  }
 },
 "nbformat": 4,
 "nbformat_minor": 2
}

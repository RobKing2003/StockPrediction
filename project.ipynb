{
 "cells": [
  {
   "cell_type": "code",
   "execution_count": 2,
   "metadata": {},
   "outputs": [
    {
     "name": "stderr",
     "output_type": "stream",
     "text": [
      "/var/folders/ds/8y07fls56c12r57pjpjs82lr0000gn/T/ipykernel_50114/3392594715.py:3: DeprecationWarning: \n",
      "Pyarrow will become a required dependency of pandas in the next major release of pandas (pandas 3.0),\n",
      "(to allow more performant data types, such as the Arrow string type, and better interoperability with other libraries)\n",
      "but was not found to be installed on your system.\n",
      "If this would cause problems for you,\n",
      "please provide us feedback at https://github.com/pandas-dev/pandas/issues/54466\n",
      "        \n",
      "  import pandas as pd\n"
     ]
    }
   ],
   "source": [
    "# Imports\n",
    "import numpy as np\n",
    "import pandas as pd"
   ]
  },
  {
   "cell_type": "code",
   "execution_count": 20,
   "metadata": {},
   "outputs": [
    {
     "name": "stdout",
     "output_type": "stream",
     "text": [
      "Median Open:  208.49500274658203\n",
      "Highest Open:  445.6199951171875\n",
      "Lowest Open:  124.11000061035156\n",
      "Highest Open Index:  2400\n",
      "Lowest Open Index:  279\n",
      "All Time Low:  123.5500030517578\n",
      "All Time High:  449.25\n",
      "All Time High Date:  2024-07-18\n"
     ]
    }
   ],
   "source": [
    "# Load data set\n",
    "url = \"https://raw.githubusercontent.com/RobKing2003/StockPrediction/refs/heads/main/berkshire_hathaway_data.csv\" \n",
    "data = pd.read_csv(url)\n",
    "\n",
    "medianOpen = np.median(data[\"Open\"])\n",
    "highestOpen, highestOpenIndex = np.max(data[\"Open\"]), data[\"Open\"].idxmax()\n",
    "lowestOpen, lowestOpenIndex = np.min(data[\"Open\"]), data[\"Open\"].idxmin()\n",
    "\n",
    "atl = np.min(data[\"Low\"]) # All Time Low\n",
    "ath = np.max(data[\"High\"]) # All Time High\n",
    "\n",
    "print(\"Median Open: \", medianOpen)\n",
    "print(\"Highest Open: \", highestOpen)\n",
    "print(\"Lowest Open: \", lowestOpen)\n",
    "\n",
    "print(\"Highest Open Index: \", highestOpenIndex)\n",
    "print(\"Lowest Open Index: \", lowestOpenIndex)\n",
    "\n",
    "print(\"All Time Low: \", atl)\n",
    "print(\"All Time High: \", ath)\n",
    "\n",
    "athIdx = data[\"High\"].idxmax()\n",
    "athDate = data.loc[athIdx, \"Date\"]\n",
    "print(\"All Time High Date: \", athDate)\n",
    "\n"
   ]
  }
 ],
 "metadata": {
  "kernelspec": {
   "display_name": "Python 3",
   "language": "python",
   "name": "python3"
  },
  "language_info": {
   "codemirror_mode": {
    "name": "ipython",
    "version": 3
   },
   "file_extension": ".py",
   "mimetype": "text/x-python",
   "name": "python",
   "nbconvert_exporter": "python",
   "pygments_lexer": "ipython3",
   "version": "3.11.8"
  }
 },
 "nbformat": 4,
 "nbformat_minor": 2
}
